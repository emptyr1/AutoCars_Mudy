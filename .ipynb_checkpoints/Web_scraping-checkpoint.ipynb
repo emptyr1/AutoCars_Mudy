{
 "metadata": {
  "name": "",
  "signature": "sha256:61b96196a13bd9a52b019b867b3b4ac641a8ab13b90a26d8e8a1ce5b006c0014"
 },
 "nbformat": 3,
 "nbformat_minor": 0,
 "worksheets": [
  {
   "cells": [
    {
     "cell_type": "code",
     "collapsed": false,
     "input": [
      "from bs4 import BeautifulSoup\n",
      "from urllib2 import urlopen\n",
      "from time import sleep\n",
      "BASE_URL = \"http://www.chicagoreader.com\""
     ],
     "language": "python",
     "metadata": {},
     "outputs": [],
     "prompt_number": 22
    },
    {
     "cell_type": "code",
     "collapsed": false,
     "input": [
      "def make_soup(url):\n",
      "    html = urlopen(url).read()\n",
      "    return BeautifulSoup(html, \"lxml\")\n",
      "\n",
      "def get_category_links(section_url):\n",
      "    \n",
      "    soup = make_soup(section_url)\n",
      "    boccat = soup.find(\"dl\", \"boccat\")\n",
      "    category_links = [BASE_URL + dd.a[\"href\"] for dd in boccat.findAll(\"dd\")]\n",
      "    print category_links\n",
      "    return category_links"
     ],
     "language": "python",
     "metadata": {},
     "outputs": [],
     "prompt_number": 23
    },
    {
     "cell_type": "code",
     "collapsed": false,
     "input": [
      "def get_category_winner(category_url):\n",
      "    \n",
      "    soup = make_soup(category_url)\n",
      "    category = soup.find(\"h1\", \"headline\").string\n",
      "    winner = [h2.string for h2 in soup.findAll(\"h2\", \"boc1\")]\n",
      "    runners_up = [h2.string for h2 in soup.findAll(\"h2\", \"boc2\")]\n",
      "    return {\"category\": category,\n",
      "            \"category_url\": category_url,\n",
      "            \"winner\": winner,\n",
      "            \"runners_up\": runners_up}"
     ],
     "language": "python",
     "metadata": {},
     "outputs": [],
     "prompt_number": 24
    },
    {
     "cell_type": "code",
     "collapsed": false,
     "input": [
      "if __name__ == '__main__':\n",
      "    food_n_drink = (\"http://www.chicagoreader.com/chicago/\"\n",
      "                    \"best-of-chicago-2011-food-drink/BestOf?oid=4106228\")\n",
      "    \n",
      "    categories = get_category_links(food_n_drink)\n",
      " \n",
      "    data = [] # a list to store our dictionaries\n",
      "    for category in categories:\n",
      "        winner = get_category_winner(category)\n",
      "        data.append(winner)\n",
      "        sleep(0.2) # be nice\n",
      " \n",
      "    print data[2]"
     ],
     "language": "python",
     "metadata": {},
     "outputs": [
      {
       "output_type": "stream",
       "stream": "stdout",
       "text": [
        "['http://www.chicagoreader.com/chicago/BestOf?category=1979894&year=2011', 'http://www.chicagoreader.com/chicago/best-fancy-restaurant-in-chicago/BestOf?oid=4088017', 'http://www.chicagoreader.com/chicago/best-bang-for-your-buck/BestOf?oid=4088018', 'http://www.chicagoreader.com/chicago/best-chef/BestOf?oid=4088191', 'http://www.chicagoreader.com/chicago/best-up-and-coming-chef/BestOf?oid=4088225', 'http://www.chicagoreader.com/chicago/best-food-blog/BestOf?oid=4088227', 'http://www.chicagoreader.com/chicago/best-ampersand-restaurant/BestOf?oid=4088228', 'http://www.chicagoreader.com/chicago/best-restaurant-name/BestOf?oid=4088229', 'http://www.chicagoreader.com/chicago/best-new-food-trend/BestOf?oid=4088231', 'http://www.chicagoreader.com/chicago/best-cocktail-list/BestOf?oid=4088236', 'http://www.chicagoreader.com/chicago/best-mixologist/BestOf?oid=4088461', 'http://www.chicagoreader.com/chicago/best-wine-list/BestOf?oid=4088462', 'http://www.chicagoreader.com/chicago/best-sommelier/BestOf?oid=4088464', 'http://www.chicagoreader.com/chicago/best-brewpub/BestOf?oid=4088465', 'http://www.chicagoreader.com/chicago/best-local-brew/BestOf?oid=4088468', 'http://www.chicagoreader.com/chicago/best-wine-shop/BestOf?oid=4088469', 'http://www.chicagoreader.com/chicago/best-liquor-store/BestOf?oid=4088470', 'http://www.chicagoreader.com/chicago/best-byob/BestOf?oid=4088471', 'http://www.chicagoreader.com/chicago/best-alfresco-dining/BestOf?oid=4088472', 'http://www.chicagoreader.com/chicago/best-late-night/BestOf?oid=4088473', 'http://www.chicagoreader.com/chicago/best-for-kids/BestOf?oid=4088474', 'http://www.chicagoreader.com/chicago/best-waitstaff/BestOf?oid=4088476', 'http://www.chicagoreader.com/chicago/best-looking-waitstaff/BestOf?oid=4088477', 'http://www.chicagoreader.com/chicago/best-food-festival/BestOf?oid=4088478', 'http://www.chicagoreader.com/chicago/best-food-truck/BestOf?oid=4088479', 'http://www.chicagoreader.com/chicago/best-gourmet-market/BestOf?oid=4088529', 'http://www.chicagoreader.com/chicago/best-local-grocer/BestOf?oid=4088661', 'http://www.chicagoreader.com/chicago/best-local-food-product/BestOf?oid=4088662', 'http://www.chicagoreader.com/chicago/best-farmers-market/BestOf?oid=4088668', 'http://www.chicagoreader.com/chicago/best-butcher-shop/BestOf?oid=4088669', 'http://www.chicagoreader.com/chicago/best-cheesemonger/BestOf?oid=4088670', 'http://www.chicagoreader.com/chicago/best-barista/BestOf?oid=4088671', 'http://www.chicagoreader.com/chicago/best-restaurant-with-a-view/BestOf?oid=4088672', 'http://www.chicagoreader.com/chicago/best-restaurant-for-romance/BestOf?oid=4088674', 'http://www.chicagoreader.com/chicago/best-restaurant-for-a-cheap-date/BestOf?oid=4088679', 'http://www.chicagoreader.com/chicago/best-neighborhood-restaurant/BestOf?oid=4088680', 'http://www.chicagoreader.com/chicago/best-bagels/BestOf?oid=4088681', 'http://www.chicagoreader.com/chicago/best-bakery/BestOf?oid=4088697', 'http://www.chicagoreader.com/chicago/best-barbecue/BestOf?oid=4088858', 'http://www.chicagoreader.com/chicago/best-breakfast/BestOf?oid=4088859', 'http://www.chicagoreader.com/chicago/best-brunch/BestOf?oid=4088860', 'http://www.chicagoreader.com/chicago/best-burger/BestOf?oid=4088863', 'http://www.chicagoreader.com/chicago/best-chinese/BestOf?oid=4088864', 'http://www.chicagoreader.com/chicago/best-coffee-shop/BestOf?oid=4088867', 'http://www.chicagoreader.com/chicago/best-desserts/BestOf?oid=4088868', 'http://www.chicagoreader.com/chicago/best-greek/BestOf?oid=4088869', 'http://www.chicagoreader.com/chicago/best-hot-dog/BestOf?oid=4088870', 'http://www.chicagoreader.com/chicago/best-ice-cream/BestOf?oid=4088872', 'http://www.chicagoreader.com/chicago/best-indian-restaurant/BestOf?oid=4088873', 'http://www.chicagoreader.com/chicago/best-italian/BestOf?oid=4088875', 'http://www.chicagoreader.com/chicago/best-korean/BestOf?oid=4088876', 'http://www.chicagoreader.com/chicago/best-mexican/BestOf?oid=4092029', 'http://www.chicagoreader.com/chicago/best-middle-eastern/BestOf?oid=4092030', 'http://www.chicagoreader.com/chicago/best-pizza/BestOf?oid=4092032', 'http://www.chicagoreader.com/chicago/best-polish/BestOf?oid=4092033', 'http://www.chicagoreader.com/chicago/best-pub-grub/BestOf?oid=4092035', 'http://www.chicagoreader.com/chicago/best-sandwiches/BestOf?oid=4092038', 'http://www.chicagoreader.com/chicago/best-seafood-restaurant/BestOf?oid=4092160', 'http://www.chicagoreader.com/chicago/best-steak-house/BestOf?oid=4092253', 'http://www.chicagoreader.com/chicago/best-sushi/BestOf?oid=4092254', 'http://www.chicagoreader.com/chicago/best-taqueria/BestOf?oid=4092259', 'http://www.chicagoreader.com/chicago/best-thai/BestOf?oid=4092260', 'http://www.chicagoreader.com/chicago/best-vegetarian/BestOf?oid=4092261', 'http://www.chicagoreader.com/chicago/best-vietnamese/BestOf?oid=4092262', 'http://www.chicagoreader.com/chicago/best-italian-steak-house-where-my-dad-felt-at-home-in-the-60s-and-i-do-nowp/BestOf?oid=4101104', 'http://www.chicagoreader.com/chicago/best-case-of-nostalgia-bordering-on-time-travel/BestOf?oid=4101105', 'http://www.chicagoreader.com/chicago/best-restaurant-empire-founded-the-same-year-as-the-reader/BestOf?oid=4101106', 'http://www.chicagoreader.com/chicago/best-restaurant/BestOf?oid=4101107', 'http://www.chicagoreader.com/chicago/best-bargain-michelin-chef/BestOf?oid=4101108', 'http://www.chicagoreader.com/chicago/best-chef-downshift-animal-division/BestOf?oid=4101109', 'http://www.chicagoreader.com/chicago/best-chef-downshift-vegetable-division/BestOf?oid=4101385', 'http://www.chicagoreader.com/chicago/best-venerable-restaurant-alongside-the-el/BestOf?oid=4101386', 'http://www.chicagoreader.com/chicago/best-new-food-truckfood/BestOf?oid=4101387', 'http://www.chicagoreader.com/chicago/best-buffet/BestOf?oid=4101388', 'http://www.chicagoreader.com/chicago/best-game-day/BestOf?oid=4101389', 'http://www.chicagoreader.com/chicago/best-dairy-product-to-camp-out-in-front-of-the-cheese-shop-for/BestOf?oid=4101390', 'http://www.chicagoreader.com/chicago/best-use-of-alcohol-at-breakfast/BestOf?oid=4101391', 'http://www.chicagoreader.com/chicago/best-university-coffeehouse/BestOf?oid=4101393', 'http://www.chicagoreader.com/chicago/best-bakery-youve-never-heard-of/BestOf?oid=4101397', 'http://www.chicagoreader.com/chicago/best-place-to-see-bakers-at-work/BestOf?oid=4101398', 'http://www.chicagoreader.com/chicago/best-place-for-ambience-and-egg-sandwiches/BestOf?oid=4101399', 'http://www.chicagoreader.com/chicago/best-bagel/BestOf?oid=4101410', 'http://www.chicagoreader.com/chicago/best-tubular-collaboration/BestOf?oid=4101411', 'http://www.chicagoreader.com/chicago/best-sausage/BestOf?oid=4101412', 'http://www.chicagoreader.com/chicago/best-place-in-chicago-to-sample-salumi-from-mario-batalis-papa/BestOf?oid=4101413', 'http://www.chicagoreader.com/chicago/best-broccoli-and-shells-con-patio/BestOf?oid=4101414', 'http://www.chicagoreader.com/chicago/best-fancy-pants-pizza-special/BestOf?oid=4101415', 'http://www.chicagoreader.com/chicago/best-polish-mexican-american-150-taco/BestOf?oid=4101416', 'http://www.chicagoreader.com/chicago/best-tater-tots/BestOf?oid=4101417', 'http://www.chicagoreader.com/chicago/best-spinach-pie/BestOf?oid=4101419', 'http://www.chicagoreader.com/chicago/best-som-tam/BestOf?oid=4101420', 'http://www.chicagoreader.com/chicago/best-soundtracked-strawberry-shake/BestOf?oid=4101498', 'http://www.chicagoreader.com/chicago/best-newly-minted-if-loosely-defined-neighborhood-for-destination-dining/BestOf?oid=4101624', 'http://www.chicagoreader.com/chicago/best-hangout-after-a-day-at-rogers-parks-beaches/BestOf?oid=4101655', 'http://www.chicagoreader.com/chicago/best-few-square-blocks-to-eat-really-well-and-cheaply/BestOf?oid=4101657', 'http://www.chicagoreader.com/chicago/best-place-to-feel-bad-about-gentrification-but-good-about-your-meal/BestOf?oid=4101658', 'http://www.chicagoreader.com/chicago/best-restaurant-staff-bent-on-making-your-day/BestOf?oid=4101659', 'http://www.chicagoreader.com/chicago/best-one-woman-kitchen/BestOf?oid=4101660', 'http://www.chicagoreader.com/chicago/most-underrated-james-beard-award-winner/BestOf?oid=4101661', 'http://www.chicagoreader.com/chicago/best-new-food-blog/BestOf?oid=4101662', 'http://www.chicagoreader.com/chicago/best-food-blog-written-by-a-linguist/BestOf?oid=4101663', 'http://www.chicagoreader.com/chicago/best-place-to-eat-and-drink-for-a-good-cause/BestOf?oid=4101664', 'http://www.chicagoreader.com/chicago/best-csa-farmer-to-swoon-over/BestOf?oid=4101665', 'http://www.chicagoreader.com/chicago/best-canine-control-at-a-farmers-market/BestOf?oid=4101666', 'http://www.chicagoreader.com/chicago/best-craft-brewery-that-doesnt-exist-yet/BestOf?oid=4101667', 'http://www.chicagoreader.com/chicago/best-cocktail-book-club/BestOf?oid=4101668']\n",
        "{'category': u'Best bang for your buck\\xa0', 'runners_up': [u'Frasca Pizzeria & Wine Bar', u'Chutney Joe\\u2019s', u'\"My boyfriend!\"'], 'winner': [u'Big Star', u'Sultan\\u2019s Market'], 'category_url': 'http://www.chicagoreader.com/chicago/best-bang-for-your-buck/BestOf?oid=4088018'}"
       ]
      },
      {
       "output_type": "stream",
       "stream": "stdout",
       "text": [
        "\n"
       ]
      }
     ],
     "prompt_number": 25
    },
    {
     "cell_type": "code",
     "collapsed": false,
     "input": [
      "###################################################################################################\n",
      "###################################################################################################\n",
      "###################################################################################################"
     ],
     "language": "python",
     "metadata": {},
     "outputs": [],
     "prompt_number": 14
    },
    {
     "cell_type": "code",
     "collapsed": false,
     "input": [
      "from bs4 import BeautifulSoup\n",
      "from urllib2 import urlopen\n",
      "from time import sleep"
     ],
     "language": "python",
     "metadata": {},
     "outputs": [],
     "prompt_number": 33
    },
    {
     "cell_type": "code",
     "collapsed": false,
     "input": [
      "BASE_URL = \"http://www.manta.com/\""
     ],
     "language": "python",
     "metadata": {},
     "outputs": [],
     "prompt_number": 34
    },
    {
     "cell_type": "code",
     "collapsed": false,
     "input": [
      "def make_soup(url):\n",
      "    html = urlopen(url).read()\n",
      "    return BeautifulSoup(html, \"lxml\")\n",
      "\n",
      "def get_state_links(state_url):\n",
      "    soup = make_soup(state_url)\n",
      "    #phn_class = soup.findAll(True, {\"class\":[\"well\", \"well-sm\", \"row\", \"row-phn\"]})\n",
      "    print phn_class\n",
      "    return \"hello\"\n",
      "    #state_links = [BASE_URL + li.a[\"href\"] for li in phn_class.findAll(\"li\")]\n",
      "    #return state_links"
     ],
     "language": "python",
     "metadata": {},
     "outputs": [],
     "prompt_number": 40
    },
    {
     "cell_type": "code",
     "collapsed": false,
     "input": [
      "if __name__== '__main__':\n",
      "    states = (\"http://www.manta.com/mb_35_B121A000_000/general_automotive_repair_shops\")\n",
      "    states_links = get_state_links(states)\n",
      "    data = []\n",
      "    "
     ],
     "language": "python",
     "metadata": {},
     "outputs": [
      {
       "ename": "HTTPError",
       "evalue": "HTTP Error 416: Requested Range Not Satisfiable",
       "output_type": "pyerr",
       "traceback": [
        "\u001b[0;31m---------------------------------------------------------------------------\u001b[0m\n\u001b[0;31mHTTPError\u001b[0m                                 Traceback (most recent call last)",
        "\u001b[0;32m<ipython-input-41-a4f5edd539b1>\u001b[0m in \u001b[0;36m<module>\u001b[0;34m()\u001b[0m\n\u001b[1;32m      1\u001b[0m \u001b[0;32mif\u001b[0m \u001b[0m__name__\u001b[0m\u001b[0;34m==\u001b[0m \u001b[0;34m'__main__'\u001b[0m\u001b[0;34m:\u001b[0m\u001b[0;34m\u001b[0m\u001b[0m\n\u001b[1;32m      2\u001b[0m     \u001b[0mstates\u001b[0m \u001b[0;34m=\u001b[0m \u001b[0;34m(\u001b[0m\u001b[0;34m\"http://www.manta.com/mb_35_B121A000_000/general_automotive_repair_shops\"\u001b[0m\u001b[0;34m)\u001b[0m\u001b[0;34m\u001b[0m\u001b[0m\n\u001b[0;32m----> 3\u001b[0;31m     \u001b[0mstates_links\u001b[0m \u001b[0;34m=\u001b[0m \u001b[0mget_state_links\u001b[0m\u001b[0;34m(\u001b[0m\u001b[0mstates\u001b[0m\u001b[0;34m)\u001b[0m\u001b[0;34m\u001b[0m\u001b[0m\n\u001b[0m\u001b[1;32m      4\u001b[0m     \u001b[0mdata\u001b[0m \u001b[0;34m=\u001b[0m \u001b[0;34m[\u001b[0m\u001b[0;34m]\u001b[0m\u001b[0;34m\u001b[0m\u001b[0m\n\u001b[1;32m      5\u001b[0m \u001b[0;34m\u001b[0m\u001b[0m\n",
        "\u001b[0;32m<ipython-input-40-50f5a52be4fa>\u001b[0m in \u001b[0;36mget_state_links\u001b[0;34m(state_url)\u001b[0m\n\u001b[1;32m      4\u001b[0m \u001b[0;34m\u001b[0m\u001b[0m\n\u001b[1;32m      5\u001b[0m \u001b[0;32mdef\u001b[0m \u001b[0mget_state_links\u001b[0m\u001b[0;34m(\u001b[0m\u001b[0mstate_url\u001b[0m\u001b[0;34m)\u001b[0m\u001b[0;34m:\u001b[0m\u001b[0;34m\u001b[0m\u001b[0m\n\u001b[0;32m----> 6\u001b[0;31m     \u001b[0msoup\u001b[0m \u001b[0;34m=\u001b[0m \u001b[0mmake_soup\u001b[0m\u001b[0;34m(\u001b[0m\u001b[0mstate_url\u001b[0m\u001b[0;34m)\u001b[0m\u001b[0;34m\u001b[0m\u001b[0m\n\u001b[0m\u001b[1;32m      7\u001b[0m     \u001b[0;31m#phn_class = soup.findAll(True, {\"class\":[\"well\", \"well-sm\", \"row\", \"row-phn\"]})\u001b[0m\u001b[0;34m\u001b[0m\u001b[0;34m\u001b[0m\u001b[0m\n\u001b[1;32m      8\u001b[0m     \u001b[0;32mprint\u001b[0m \u001b[0mphn_class\u001b[0m\u001b[0;34m\u001b[0m\u001b[0m\n",
        "\u001b[0;32m<ipython-input-40-50f5a52be4fa>\u001b[0m in \u001b[0;36mmake_soup\u001b[0;34m(url)\u001b[0m\n\u001b[1;32m      1\u001b[0m \u001b[0;32mdef\u001b[0m \u001b[0mmake_soup\u001b[0m\u001b[0;34m(\u001b[0m\u001b[0murl\u001b[0m\u001b[0;34m)\u001b[0m\u001b[0;34m:\u001b[0m\u001b[0;34m\u001b[0m\u001b[0m\n\u001b[0;32m----> 2\u001b[0;31m     \u001b[0mhtml\u001b[0m \u001b[0;34m=\u001b[0m \u001b[0murlopen\u001b[0m\u001b[0;34m(\u001b[0m\u001b[0murl\u001b[0m\u001b[0;34m)\u001b[0m\u001b[0;34m.\u001b[0m\u001b[0mread\u001b[0m\u001b[0;34m(\u001b[0m\u001b[0;34m)\u001b[0m\u001b[0;34m\u001b[0m\u001b[0m\n\u001b[0m\u001b[1;32m      3\u001b[0m     \u001b[0;32mreturn\u001b[0m \u001b[0mBeautifulSoup\u001b[0m\u001b[0;34m(\u001b[0m\u001b[0mhtml\u001b[0m\u001b[0;34m)\u001b[0m\u001b[0;34m\u001b[0m\u001b[0m\n\u001b[1;32m      4\u001b[0m \u001b[0;34m\u001b[0m\u001b[0m\n\u001b[1;32m      5\u001b[0m \u001b[0;32mdef\u001b[0m \u001b[0mget_state_links\u001b[0m\u001b[0;34m(\u001b[0m\u001b[0mstate_url\u001b[0m\u001b[0;34m)\u001b[0m\u001b[0;34m:\u001b[0m\u001b[0;34m\u001b[0m\u001b[0m\n",
        "\u001b[0;32m/Users/mudy/anaconda/lib/python2.7/urllib2.pyc\u001b[0m in \u001b[0;36murlopen\u001b[0;34m(url, data, timeout, cafile, capath, cadefault, context)\u001b[0m\n\u001b[1;32m    152\u001b[0m     \u001b[0;32melse\u001b[0m\u001b[0;34m:\u001b[0m\u001b[0;34m\u001b[0m\u001b[0m\n\u001b[1;32m    153\u001b[0m         \u001b[0mopener\u001b[0m \u001b[0;34m=\u001b[0m \u001b[0m_opener\u001b[0m\u001b[0;34m\u001b[0m\u001b[0m\n\u001b[0;32m--> 154\u001b[0;31m     \u001b[0;32mreturn\u001b[0m \u001b[0mopener\u001b[0m\u001b[0;34m.\u001b[0m\u001b[0mopen\u001b[0m\u001b[0;34m(\u001b[0m\u001b[0murl\u001b[0m\u001b[0;34m,\u001b[0m \u001b[0mdata\u001b[0m\u001b[0;34m,\u001b[0m \u001b[0mtimeout\u001b[0m\u001b[0;34m)\u001b[0m\u001b[0;34m\u001b[0m\u001b[0m\n\u001b[0m\u001b[1;32m    155\u001b[0m \u001b[0;34m\u001b[0m\u001b[0m\n\u001b[1;32m    156\u001b[0m \u001b[0;32mdef\u001b[0m \u001b[0minstall_opener\u001b[0m\u001b[0;34m(\u001b[0m\u001b[0mopener\u001b[0m\u001b[0;34m)\u001b[0m\u001b[0;34m:\u001b[0m\u001b[0;34m\u001b[0m\u001b[0m\n",
        "\u001b[0;32m/Users/mudy/anaconda/lib/python2.7/urllib2.pyc\u001b[0m in \u001b[0;36mopen\u001b[0;34m(self, fullurl, data, timeout)\u001b[0m\n\u001b[1;32m    435\u001b[0m         \u001b[0;32mfor\u001b[0m \u001b[0mprocessor\u001b[0m \u001b[0;32min\u001b[0m \u001b[0mself\u001b[0m\u001b[0;34m.\u001b[0m\u001b[0mprocess_response\u001b[0m\u001b[0;34m.\u001b[0m\u001b[0mget\u001b[0m\u001b[0;34m(\u001b[0m\u001b[0mprotocol\u001b[0m\u001b[0;34m,\u001b[0m \u001b[0;34m[\u001b[0m\u001b[0;34m]\u001b[0m\u001b[0;34m)\u001b[0m\u001b[0;34m:\u001b[0m\u001b[0;34m\u001b[0m\u001b[0m\n\u001b[1;32m    436\u001b[0m             \u001b[0mmeth\u001b[0m \u001b[0;34m=\u001b[0m \u001b[0mgetattr\u001b[0m\u001b[0;34m(\u001b[0m\u001b[0mprocessor\u001b[0m\u001b[0;34m,\u001b[0m \u001b[0mmeth_name\u001b[0m\u001b[0;34m)\u001b[0m\u001b[0;34m\u001b[0m\u001b[0m\n\u001b[0;32m--> 437\u001b[0;31m             \u001b[0mresponse\u001b[0m \u001b[0;34m=\u001b[0m \u001b[0mmeth\u001b[0m\u001b[0;34m(\u001b[0m\u001b[0mreq\u001b[0m\u001b[0;34m,\u001b[0m \u001b[0mresponse\u001b[0m\u001b[0;34m)\u001b[0m\u001b[0;34m\u001b[0m\u001b[0m\n\u001b[0m\u001b[1;32m    438\u001b[0m \u001b[0;34m\u001b[0m\u001b[0m\n\u001b[1;32m    439\u001b[0m         \u001b[0;32mreturn\u001b[0m \u001b[0mresponse\u001b[0m\u001b[0;34m\u001b[0m\u001b[0m\n",
        "\u001b[0;32m/Users/mudy/anaconda/lib/python2.7/urllib2.pyc\u001b[0m in \u001b[0;36mhttp_response\u001b[0;34m(self, request, response)\u001b[0m\n\u001b[1;32m    548\u001b[0m         \u001b[0;32mif\u001b[0m \u001b[0;32mnot\u001b[0m \u001b[0;34m(\u001b[0m\u001b[0;36m200\u001b[0m \u001b[0;34m<=\u001b[0m \u001b[0mcode\u001b[0m \u001b[0;34m<\u001b[0m \u001b[0;36m300\u001b[0m\u001b[0;34m)\u001b[0m\u001b[0;34m:\u001b[0m\u001b[0;34m\u001b[0m\u001b[0m\n\u001b[1;32m    549\u001b[0m             response = self.parent.error(\n\u001b[0;32m--> 550\u001b[0;31m                 'http', request, response, code, msg, hdrs)\n\u001b[0m\u001b[1;32m    551\u001b[0m \u001b[0;34m\u001b[0m\u001b[0m\n\u001b[1;32m    552\u001b[0m         \u001b[0;32mreturn\u001b[0m \u001b[0mresponse\u001b[0m\u001b[0;34m\u001b[0m\u001b[0m\n",
        "\u001b[0;32m/Users/mudy/anaconda/lib/python2.7/urllib2.pyc\u001b[0m in \u001b[0;36merror\u001b[0;34m(self, proto, *args)\u001b[0m\n\u001b[1;32m    473\u001b[0m         \u001b[0;32mif\u001b[0m \u001b[0mhttp_err\u001b[0m\u001b[0;34m:\u001b[0m\u001b[0;34m\u001b[0m\u001b[0m\n\u001b[1;32m    474\u001b[0m             \u001b[0margs\u001b[0m \u001b[0;34m=\u001b[0m \u001b[0;34m(\u001b[0m\u001b[0mdict\u001b[0m\u001b[0;34m,\u001b[0m \u001b[0;34m'default'\u001b[0m\u001b[0;34m,\u001b[0m \u001b[0;34m'http_error_default'\u001b[0m\u001b[0;34m)\u001b[0m \u001b[0;34m+\u001b[0m \u001b[0morig_args\u001b[0m\u001b[0;34m\u001b[0m\u001b[0m\n\u001b[0;32m--> 475\u001b[0;31m             \u001b[0;32mreturn\u001b[0m \u001b[0mself\u001b[0m\u001b[0;34m.\u001b[0m\u001b[0m_call_chain\u001b[0m\u001b[0;34m(\u001b[0m\u001b[0;34m*\u001b[0m\u001b[0margs\u001b[0m\u001b[0;34m)\u001b[0m\u001b[0;34m\u001b[0m\u001b[0m\n\u001b[0m\u001b[1;32m    476\u001b[0m \u001b[0;34m\u001b[0m\u001b[0m\n\u001b[1;32m    477\u001b[0m \u001b[0;31m# XXX probably also want an abstract factory that knows when it makes\u001b[0m\u001b[0;34m\u001b[0m\u001b[0;34m\u001b[0m\u001b[0m\n",
        "\u001b[0;32m/Users/mudy/anaconda/lib/python2.7/urllib2.pyc\u001b[0m in \u001b[0;36m_call_chain\u001b[0;34m(self, chain, kind, meth_name, *args)\u001b[0m\n\u001b[1;32m    407\u001b[0m             \u001b[0mfunc\u001b[0m \u001b[0;34m=\u001b[0m \u001b[0mgetattr\u001b[0m\u001b[0;34m(\u001b[0m\u001b[0mhandler\u001b[0m\u001b[0;34m,\u001b[0m \u001b[0mmeth_name\u001b[0m\u001b[0;34m)\u001b[0m\u001b[0;34m\u001b[0m\u001b[0m\n\u001b[1;32m    408\u001b[0m \u001b[0;34m\u001b[0m\u001b[0m\n\u001b[0;32m--> 409\u001b[0;31m             \u001b[0mresult\u001b[0m \u001b[0;34m=\u001b[0m \u001b[0mfunc\u001b[0m\u001b[0;34m(\u001b[0m\u001b[0;34m*\u001b[0m\u001b[0margs\u001b[0m\u001b[0;34m)\u001b[0m\u001b[0;34m\u001b[0m\u001b[0m\n\u001b[0m\u001b[1;32m    410\u001b[0m             \u001b[0;32mif\u001b[0m \u001b[0mresult\u001b[0m \u001b[0;32mis\u001b[0m \u001b[0;32mnot\u001b[0m \u001b[0mNone\u001b[0m\u001b[0;34m:\u001b[0m\u001b[0;34m\u001b[0m\u001b[0m\n\u001b[1;32m    411\u001b[0m                 \u001b[0;32mreturn\u001b[0m \u001b[0mresult\u001b[0m\u001b[0;34m\u001b[0m\u001b[0m\n",
        "\u001b[0;32m/Users/mudy/anaconda/lib/python2.7/urllib2.pyc\u001b[0m in \u001b[0;36mhttp_error_default\u001b[0;34m(self, req, fp, code, msg, hdrs)\u001b[0m\n\u001b[1;32m    556\u001b[0m \u001b[0;32mclass\u001b[0m \u001b[0mHTTPDefaultErrorHandler\u001b[0m\u001b[0;34m(\u001b[0m\u001b[0mBaseHandler\u001b[0m\u001b[0;34m)\u001b[0m\u001b[0;34m:\u001b[0m\u001b[0;34m\u001b[0m\u001b[0m\n\u001b[1;32m    557\u001b[0m     \u001b[0;32mdef\u001b[0m \u001b[0mhttp_error_default\u001b[0m\u001b[0;34m(\u001b[0m\u001b[0mself\u001b[0m\u001b[0;34m,\u001b[0m \u001b[0mreq\u001b[0m\u001b[0;34m,\u001b[0m \u001b[0mfp\u001b[0m\u001b[0;34m,\u001b[0m \u001b[0mcode\u001b[0m\u001b[0;34m,\u001b[0m \u001b[0mmsg\u001b[0m\u001b[0;34m,\u001b[0m \u001b[0mhdrs\u001b[0m\u001b[0;34m)\u001b[0m\u001b[0;34m:\u001b[0m\u001b[0;34m\u001b[0m\u001b[0m\n\u001b[0;32m--> 558\u001b[0;31m         \u001b[0;32mraise\u001b[0m \u001b[0mHTTPError\u001b[0m\u001b[0;34m(\u001b[0m\u001b[0mreq\u001b[0m\u001b[0;34m.\u001b[0m\u001b[0mget_full_url\u001b[0m\u001b[0;34m(\u001b[0m\u001b[0;34m)\u001b[0m\u001b[0;34m,\u001b[0m \u001b[0mcode\u001b[0m\u001b[0;34m,\u001b[0m \u001b[0mmsg\u001b[0m\u001b[0;34m,\u001b[0m \u001b[0mhdrs\u001b[0m\u001b[0;34m,\u001b[0m \u001b[0mfp\u001b[0m\u001b[0;34m)\u001b[0m\u001b[0;34m\u001b[0m\u001b[0m\n\u001b[0m\u001b[1;32m    559\u001b[0m \u001b[0;34m\u001b[0m\u001b[0m\n\u001b[1;32m    560\u001b[0m \u001b[0;32mclass\u001b[0m \u001b[0mHTTPRedirectHandler\u001b[0m\u001b[0;34m(\u001b[0m\u001b[0mBaseHandler\u001b[0m\u001b[0;34m)\u001b[0m\u001b[0;34m:\u001b[0m\u001b[0;34m\u001b[0m\u001b[0m\n",
        "\u001b[0;31mHTTPError\u001b[0m: HTTP Error 416: Requested Range Not Satisfiable"
       ]
      }
     ],
     "prompt_number": 41
    },
    {
     "cell_type": "code",
     "collapsed": false,
     "input": [],
     "language": "python",
     "metadata": {},
     "outputs": []
    }
   ],
   "metadata": {}
  }
 ]
}