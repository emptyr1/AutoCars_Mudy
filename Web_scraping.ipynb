{
 "metadata": {
  "name": "",
  "signature": "sha256:56d8556afb95e3069e423aa545570304c141c7e504414d08dcd8a8f8785807ab"
 },
 "nbformat": 3,
 "nbformat_minor": 0,
 "worksheets": [
  {
   "cells": [
    {
     "cell_type": "code",
     "collapsed": false,
     "input": [
      "from bs4 import BeautifulSoup\n",
      "from urllib2 import urlopen\n",
      "from time import sleep\n",
      "BASE_URL = \"http://www.chicagoreader.com\""
     ],
     "language": "python",
     "metadata": {},
     "outputs": [],
     "prompt_number": 22
    },
    {
     "cell_type": "code",
     "collapsed": false,
     "input": [
      "def make_soup(url):\n",
      "    html = urlopen(url).read()\n",
      "    return BeautifulSoup(html, \"lxml\")\n",
      "\n",
      "def get_category_links(section_url):\n",
      "    \n",
      "    soup = make_soup(section_url)\n",
      "    boccat = soup.find(\"dl\", \"boccat\")\n",
      "    category_links = [BASE_URL + dd.a[\"href\"] for dd in boccat.findAll(\"dd\")]\n",
      "    print category_links\n",
      "    return category_links"
     ],
     "language": "python",
     "metadata": {},
     "outputs": [],
     "prompt_number": 23
    },
    {
     "cell_type": "code",
     "collapsed": false,
     "input": [
      "def get_category_winner(category_url):\n",
      "    \n",
      "    soup = make_soup(category_url)\n",
      "    category = soup.find(\"h1\", \"headline\").string\n",
      "    winner = [h2.string for h2 in soup.findAll(\"h2\", \"boc1\")]\n",
      "    runners_up = [h2.string for h2 in soup.findAll(\"h2\", \"boc2\")]\n",
      "    return {\"category\": category,\n",
      "            \"category_url\": category_url,\n",
      "            \"winner\": winner,\n",
      "            \"runners_up\": runners_up}"
     ],
     "language": "python",
     "metadata": {},
     "outputs": [],
     "prompt_number": 24
    },
    {
     "cell_type": "code",
     "collapsed": false,
     "input": [
      "if __name__ == '__main__':\n",
      "    food_n_drink = (\"http://www.chicagoreader.com/chicago/\"\n",
      "                    \"best-of-chicago-2011-food-drink/BestOf?oid=4106228\")\n",
      "    \n",
      "    categories = get_category_links(food_n_drink)\n",
      " \n",
      "    data = [] # a list to store our dictionaries\n",
      "    for category in categories:\n",
      "        winner = get_category_winner(category)\n",
      "        data.append(winner)\n",
      "        sleep(0.2) # be nice\n",
      " \n",
      "    print data[2]"
     ],
     "language": "python",
     "metadata": {},
     "outputs": [
      {
       "output_type": "stream",
       "stream": "stdout",
       "text": [
        "['http://www.chicagoreader.com/chicago/BestOf?category=1979894&year=2011', 'http://www.chicagoreader.com/chicago/best-fancy-restaurant-in-chicago/BestOf?oid=4088017', 'http://www.chicagoreader.com/chicago/best-bang-for-your-buck/BestOf?oid=4088018', 'http://www.chicagoreader.com/chicago/best-chef/BestOf?oid=4088191', 'http://www.chicagoreader.com/chicago/best-up-and-coming-chef/BestOf?oid=4088225', 'http://www.chicagoreader.com/chicago/best-food-blog/BestOf?oid=4088227', 'http://www.chicagoreader.com/chicago/best-ampersand-restaurant/BestOf?oid=4088228', 'http://www.chicagoreader.com/chicago/best-restaurant-name/BestOf?oid=4088229', 'http://www.chicagoreader.com/chicago/best-new-food-trend/BestOf?oid=4088231', 'http://www.chicagoreader.com/chicago/best-cocktail-list/BestOf?oid=4088236', 'http://www.chicagoreader.com/chicago/best-mixologist/BestOf?oid=4088461', 'http://www.chicagoreader.com/chicago/best-wine-list/BestOf?oid=4088462', 'http://www.chicagoreader.com/chicago/best-sommelier/BestOf?oid=4088464', 'http://www.chicagoreader.com/chicago/best-brewpub/BestOf?oid=4088465', 'http://www.chicagoreader.com/chicago/best-local-brew/BestOf?oid=4088468', 'http://www.chicagoreader.com/chicago/best-wine-shop/BestOf?oid=4088469', 'http://www.chicagoreader.com/chicago/best-liquor-store/BestOf?oid=4088470', 'http://www.chicagoreader.com/chicago/best-byob/BestOf?oid=4088471', 'http://www.chicagoreader.com/chicago/best-alfresco-dining/BestOf?oid=4088472', 'http://www.chicagoreader.com/chicago/best-late-night/BestOf?oid=4088473', 'http://www.chicagoreader.com/chicago/best-for-kids/BestOf?oid=4088474', 'http://www.chicagoreader.com/chicago/best-waitstaff/BestOf?oid=4088476', 'http://www.chicagoreader.com/chicago/best-looking-waitstaff/BestOf?oid=4088477', 'http://www.chicagoreader.com/chicago/best-food-festival/BestOf?oid=4088478', 'http://www.chicagoreader.com/chicago/best-food-truck/BestOf?oid=4088479', 'http://www.chicagoreader.com/chicago/best-gourmet-market/BestOf?oid=4088529', 'http://www.chicagoreader.com/chicago/best-local-grocer/BestOf?oid=4088661', 'http://www.chicagoreader.com/chicago/best-local-food-product/BestOf?oid=4088662', 'http://www.chicagoreader.com/chicago/best-farmers-market/BestOf?oid=4088668', 'http://www.chicagoreader.com/chicago/best-butcher-shop/BestOf?oid=4088669', 'http://www.chicagoreader.com/chicago/best-cheesemonger/BestOf?oid=4088670', 'http://www.chicagoreader.com/chicago/best-barista/BestOf?oid=4088671', 'http://www.chicagoreader.com/chicago/best-restaurant-with-a-view/BestOf?oid=4088672', 'http://www.chicagoreader.com/chicago/best-restaurant-for-romance/BestOf?oid=4088674', 'http://www.chicagoreader.com/chicago/best-restaurant-for-a-cheap-date/BestOf?oid=4088679', 'http://www.chicagoreader.com/chicago/best-neighborhood-restaurant/BestOf?oid=4088680', 'http://www.chicagoreader.com/chicago/best-bagels/BestOf?oid=4088681', 'http://www.chicagoreader.com/chicago/best-bakery/BestOf?oid=4088697', 'http://www.chicagoreader.com/chicago/best-barbecue/BestOf?oid=4088858', 'http://www.chicagoreader.com/chicago/best-breakfast/BestOf?oid=4088859', 'http://www.chicagoreader.com/chicago/best-brunch/BestOf?oid=4088860', 'http://www.chicagoreader.com/chicago/best-burger/BestOf?oid=4088863', 'http://www.chicagoreader.com/chicago/best-chinese/BestOf?oid=4088864', 'http://www.chicagoreader.com/chicago/best-coffee-shop/BestOf?oid=4088867', 'http://www.chicagoreader.com/chicago/best-desserts/BestOf?oid=4088868', 'http://www.chicagoreader.com/chicago/best-greek/BestOf?oid=4088869', 'http://www.chicagoreader.com/chicago/best-hot-dog/BestOf?oid=4088870', 'http://www.chicagoreader.com/chicago/best-ice-cream/BestOf?oid=4088872', 'http://www.chicagoreader.com/chicago/best-indian-restaurant/BestOf?oid=4088873', 'http://www.chicagoreader.com/chicago/best-italian/BestOf?oid=4088875', 'http://www.chicagoreader.com/chicago/best-korean/BestOf?oid=4088876', 'http://www.chicagoreader.com/chicago/best-mexican/BestOf?oid=4092029', 'http://www.chicagoreader.com/chicago/best-middle-eastern/BestOf?oid=4092030', 'http://www.chicagoreader.com/chicago/best-pizza/BestOf?oid=4092032', 'http://www.chicagoreader.com/chicago/best-polish/BestOf?oid=4092033', 'http://www.chicagoreader.com/chicago/best-pub-grub/BestOf?oid=4092035', 'http://www.chicagoreader.com/chicago/best-sandwiches/BestOf?oid=4092038', 'http://www.chicagoreader.com/chicago/best-seafood-restaurant/BestOf?oid=4092160', 'http://www.chicagoreader.com/chicago/best-steak-house/BestOf?oid=4092253', 'http://www.chicagoreader.com/chicago/best-sushi/BestOf?oid=4092254', 'http://www.chicagoreader.com/chicago/best-taqueria/BestOf?oid=4092259', 'http://www.chicagoreader.com/chicago/best-thai/BestOf?oid=4092260', 'http://www.chicagoreader.com/chicago/best-vegetarian/BestOf?oid=4092261', 'http://www.chicagoreader.com/chicago/best-vietnamese/BestOf?oid=4092262', 'http://www.chicagoreader.com/chicago/best-italian-steak-house-where-my-dad-felt-at-home-in-the-60s-and-i-do-nowp/BestOf?oid=4101104', 'http://www.chicagoreader.com/chicago/best-case-of-nostalgia-bordering-on-time-travel/BestOf?oid=4101105', 'http://www.chicagoreader.com/chicago/best-restaurant-empire-founded-the-same-year-as-the-reader/BestOf?oid=4101106', 'http://www.chicagoreader.com/chicago/best-restaurant/BestOf?oid=4101107', 'http://www.chicagoreader.com/chicago/best-bargain-michelin-chef/BestOf?oid=4101108', 'http://www.chicagoreader.com/chicago/best-chef-downshift-animal-division/BestOf?oid=4101109', 'http://www.chicagoreader.com/chicago/best-chef-downshift-vegetable-division/BestOf?oid=4101385', 'http://www.chicagoreader.com/chicago/best-venerable-restaurant-alongside-the-el/BestOf?oid=4101386', 'http://www.chicagoreader.com/chicago/best-new-food-truckfood/BestOf?oid=4101387', 'http://www.chicagoreader.com/chicago/best-buffet/BestOf?oid=4101388', 'http://www.chicagoreader.com/chicago/best-game-day/BestOf?oid=4101389', 'http://www.chicagoreader.com/chicago/best-dairy-product-to-camp-out-in-front-of-the-cheese-shop-for/BestOf?oid=4101390', 'http://www.chicagoreader.com/chicago/best-use-of-alcohol-at-breakfast/BestOf?oid=4101391', 'http://www.chicagoreader.com/chicago/best-university-coffeehouse/BestOf?oid=4101393', 'http://www.chicagoreader.com/chicago/best-bakery-youve-never-heard-of/BestOf?oid=4101397', 'http://www.chicagoreader.com/chicago/best-place-to-see-bakers-at-work/BestOf?oid=4101398', 'http://www.chicagoreader.com/chicago/best-place-for-ambience-and-egg-sandwiches/BestOf?oid=4101399', 'http://www.chicagoreader.com/chicago/best-bagel/BestOf?oid=4101410', 'http://www.chicagoreader.com/chicago/best-tubular-collaboration/BestOf?oid=4101411', 'http://www.chicagoreader.com/chicago/best-sausage/BestOf?oid=4101412', 'http://www.chicagoreader.com/chicago/best-place-in-chicago-to-sample-salumi-from-mario-batalis-papa/BestOf?oid=4101413', 'http://www.chicagoreader.com/chicago/best-broccoli-and-shells-con-patio/BestOf?oid=4101414', 'http://www.chicagoreader.com/chicago/best-fancy-pants-pizza-special/BestOf?oid=4101415', 'http://www.chicagoreader.com/chicago/best-polish-mexican-american-150-taco/BestOf?oid=4101416', 'http://www.chicagoreader.com/chicago/best-tater-tots/BestOf?oid=4101417', 'http://www.chicagoreader.com/chicago/best-spinach-pie/BestOf?oid=4101419', 'http://www.chicagoreader.com/chicago/best-som-tam/BestOf?oid=4101420', 'http://www.chicagoreader.com/chicago/best-soundtracked-strawberry-shake/BestOf?oid=4101498', 'http://www.chicagoreader.com/chicago/best-newly-minted-if-loosely-defined-neighborhood-for-destination-dining/BestOf?oid=4101624', 'http://www.chicagoreader.com/chicago/best-hangout-after-a-day-at-rogers-parks-beaches/BestOf?oid=4101655', 'http://www.chicagoreader.com/chicago/best-few-square-blocks-to-eat-really-well-and-cheaply/BestOf?oid=4101657', 'http://www.chicagoreader.com/chicago/best-place-to-feel-bad-about-gentrification-but-good-about-your-meal/BestOf?oid=4101658', 'http://www.chicagoreader.com/chicago/best-restaurant-staff-bent-on-making-your-day/BestOf?oid=4101659', 'http://www.chicagoreader.com/chicago/best-one-woman-kitchen/BestOf?oid=4101660', 'http://www.chicagoreader.com/chicago/most-underrated-james-beard-award-winner/BestOf?oid=4101661', 'http://www.chicagoreader.com/chicago/best-new-food-blog/BestOf?oid=4101662', 'http://www.chicagoreader.com/chicago/best-food-blog-written-by-a-linguist/BestOf?oid=4101663', 'http://www.chicagoreader.com/chicago/best-place-to-eat-and-drink-for-a-good-cause/BestOf?oid=4101664', 'http://www.chicagoreader.com/chicago/best-csa-farmer-to-swoon-over/BestOf?oid=4101665', 'http://www.chicagoreader.com/chicago/best-canine-control-at-a-farmers-market/BestOf?oid=4101666', 'http://www.chicagoreader.com/chicago/best-craft-brewery-that-doesnt-exist-yet/BestOf?oid=4101667', 'http://www.chicagoreader.com/chicago/best-cocktail-book-club/BestOf?oid=4101668']\n",
        "{'category': u'Best bang for your buck\\xa0', 'runners_up': [u'Frasca Pizzeria & Wine Bar', u'Chutney Joe\\u2019s', u'\"My boyfriend!\"'], 'winner': [u'Big Star', u'Sultan\\u2019s Market'], 'category_url': 'http://www.chicagoreader.com/chicago/best-bang-for-your-buck/BestOf?oid=4088018'}"
       ]
      },
      {
       "output_type": "stream",
       "stream": "stdout",
       "text": [
        "\n"
       ]
      }
     ],
     "prompt_number": 25
    },
    {
     "cell_type": "code",
     "collapsed": false,
     "input": [
      "###################################################################################################\n",
      "###################################################################################################\n",
      "###################################################################################################"
     ],
     "language": "python",
     "metadata": {},
     "outputs": [],
     "prompt_number": 14
    },
    {
     "cell_type": "code",
     "collapsed": false,
     "input": [
      "from bs4 import BeautifulSoup\n",
      "from urllib2 import urlopen\n",
      "from time import sleep"
     ],
     "language": "python",
     "metadata": {},
     "outputs": [],
     "prompt_number": 33
    },
    {
     "cell_type": "code",
     "collapsed": false,
     "input": [
      "BASE_URL = \"http://www.manta.com/\""
     ],
     "language": "python",
     "metadata": {},
     "outputs": [],
     "prompt_number": 34
    },
    {
     "cell_type": "code",
     "collapsed": false,
     "input": [
      "def make_soup(url):\n",
      "    html = urlopen(url).read()\n",
      "    return BeautifulSoup(html, \"lxml\")\n",
      "\n",
      "def get_state_links(state_url):\n",
      "    soup = make_soup(state_url)\n",
      "    print soup\n",
      "    #phn_class = soup.findAll(True, {\"class\":[\"well\", \"well-sm\", \"row\", \"row-phn\"]})\n",
      "    #print phn_class\n",
      "    return \"hello\"\n",
      "    #state_links = [BASE_URL + li.a[\"href\"] for li in phn_class.findAll(\"li\")]\n",
      "    #return state_links\n",
      "    \n",
      "if __name__== '__main__':\n",
      "    states = (\"https://www.google.com\")\n",
      "    states_links = get_state_links(states)\n",
      "    data = []\n",
      "    "
     ],
     "language": "python",
     "metadata": {},
     "outputs": [
      {
       "output_type": "stream",
       "stream": "stdout",
       "text": [
        "<!DOCTYPE html>\n",
        "<html itemscope=\"\" itemtype=\"http://schema.org/WebPage\" lang=\"en\"><head><meta content=\"Search the world's information, including webpages, images, videos and more. Google has many special features to help you find exactly what you're looking for.\" name=\"description\"/><meta content=\"noodp\" name=\"robots\"/><meta content=\"/images/google_favicon_128.png\" itemprop=\"image\"/><title>Google</title><script>(function(){window.google={kEI:'goN2Vb7WH5DKogTvoIOwDw',kEXPI:'3700328,4025836,4029569,4029815,4032500,4032521,4032677,4033307,4033344,4034425,4034884,4035933,4036346,4036424,4036435,4036471,4036486,4036895,4037433,4037458,4037680,4038039,4038150,4038223,4038337,4038414,4038471,8300096,8300154,8500394,8501248,8501295,8501351,8501407,8501489,8501594,10200083,10201180,10201209',authuser:0,kscs:'c9c918f0_10'};google.kHL='en';})();(function(){google.lc=[];google.li=0;google.getEI=function(a){for(var b;a&&(!a.getAttribute||!(b=a.getAttribute(\"eid\")));)a=a.parentNode;return b||google.kEI};google.getLEI=function(a){for(var b=null;a&&(!a.getAttribute||!(b=a.getAttribute(\"leid\")));)a=a.parentNode;return b};google.https=function(){return\"https:\"==window.location.protocol};google.ml=function(){};google.time=function(){return(new Date).getTime()};google.log=function(a,b,e,f,l){var d=new Image,h=google.lc,g=google.li,c=\"\",m=google.ls||\"\";d.onerror=d.onload=d.onabort=function(){delete h[g]};h[g]=d;if(!e&&-1==b.search(\"&ei=\")){var k=google.getEI(f),c=\"&ei=\"+k;-1==b.search(\"&lei=\")&&((f=google.getLEI(f))?c+=\"&lei=\"+f:k!=google.kEI&&(c+=\"&lei=\"+google.kEI))}a=e||\"/\"+(l||\"gen_204\")+\"?atyp=i&ct=\"+a+\"&cad=\"+b+c+m+\"&zx=\"+google.time();/^http:/i.test(a)&&google.https()?(google.ml(Error(\"a\"),!1,{src:a,glmm:1}),delete h[g]):(window.google&&window.google.vel&&\n",
        "window.google.vel.lu&&window.google.vel.lu(a),d.src=a,google.li=g+1)};google.y={};google.x=function(a,b){google.y[a.id]=[a,b];return!1};google.load=function(a,b,e){google.x({id:a+n++},function(){google.load(a,b,e)})};var n=0;})();google.kCSI={};var _gjwl=location;function _gjuc(){var a=_gjwl.href.indexOf(\"#\");if(0<=a&&(a=_gjwl.href.substring(a),0<a.indexOf(\"&q=\")||0<=a.indexOf(\"#q=\"))&&(a=a.substring(1),-1==a.indexOf(\"#\"))){for(var d=0;d<a.length;){var b=d;\"&\"==a.charAt(b)&&++b;var c=a.indexOf(\"&\",b);-1==c&&(c=a.length);b=a.substring(b,c);if(0==b.indexOf(\"fp=\"))a=a.substring(0,d)+a.substring(c,a.length),c=d;else if(\"cad=h\"==b)return 0;d=c}_gjwl.href=\"/search?\"+a+\"&cad=h\";return 1}return 0}\n",
        "function _gjh(){!_gjuc()&&window.google&&google.x&&google.x({id:\"GJH\"},function(){google.nav&&google.nav.gjh&&google.nav.gjh()})};window._gjh&&_gjh();</script><style>#gbar,#guser{font-size:13px;padding-top:1px !important;}#gbar{height:22px}#guser{padding-bottom:7px !important;text-align:right}.gbh,.gbd{border-top:1px solid #c9d7f1;font-size:1px}.gbh{height:0;position:absolute;top:24px;width:100%}@media all{.gb1{height:22px;margin-right:.5em;vertical-align:top}#gbar{float:left}}a.gb1,a.gb4{text-decoration:underline !important}a.gb1,a.gb4{color:#00c !important}.gbi .gb4{color:#dd8e27 !important}.gbf .gb4{color:#900 !important}</style><style>body,td,a,p,.h{font-family:arial,sans-serif}body{margin:0;overflow-y:scroll}#gog{padding:3px 8px 0}td{line-height:.8em}.gac_m td{line-height:17px}form{margin-bottom:20px}.h{color:#36c}.q{color:#00c}.ts td{padding:0}.ts{border-collapse:collapse}em{font-weight:bold;font-style:normal}.lst{height:25px;width:496px}.gsfi,.lst{font:18px arial,sans-serif}.gsfs{font:17px arial,sans-serif}.ds{display:inline-box;display:inline-block;margin:3px 0 4px;margin-left:4px}input{font-family:inherit}a.gb1,a.gb2,a.gb3,a.gb4{color:#11c !important}body{background:#fff;color:black}a{color:#11c;text-decoration:none}a:hover,a:active{text-decoration:underline}.fl a{color:#36c}a:visited{color:#551a8b}a.gb1,a.gb4{text-decoration:underline}a.gb3:hover{text-decoration:none}#ghead a.gb2:hover{color:#fff !important}.sblc{padding-top:5px}.sblc a{display:block;margin:2px 0;margin-left:13px;font-size:11px}.lsbb{background:#eee;border:solid 1px;border-color:#ccc #999 #999 #ccc;height:30px}.lsbb{display:block}.ftl,#fll a{display:inline-block;margin:0 12px}.lsb{background:url(/images/srpr/nav_logo80.png) 0 -258px repeat-x;border:none;color:#000;cursor:pointer;height:30px;margin:0;outline:0;font:15px arial,sans-serif;vertical-align:top}.lsb:active{background:#ccc}.lst:focus{outline:none}</style><script></script></head><body bgcolor=\"#fff\"><script>(function(){var src='/images/nav_logo199.png';var iesg=false;document.body.onload = function(){window.n && window.n();if (document.images){new Image().src=src;}\n",
        "if (!iesg){document.f&&document.f.q.focus();document.gbqf&&document.gbqf.q.focus();}\n",
        "}\n",
        "})();</script><div id=\"mngb\"> <div id=\"gbar\"><nobr><b class=\"gb1\">Search</b> <a class=\"gb1\" href=\"https://www.google.com/imghp?hl=en&amp;tab=wi\">Images</a> <a class=\"gb1\" href=\"https://maps.google.com/maps?hl=en&amp;tab=wl\">Maps</a> <a class=\"gb1\" href=\"https://play.google.com/?hl=en&amp;tab=w8\">Play</a> <a class=\"gb1\" href=\"https://www.youtube.com/?tab=w1\">YouTube</a> <a class=\"gb1\" href=\"https://news.google.com/nwshp?hl=en&amp;tab=wn\">News</a> <a class=\"gb1\" href=\"https://mail.google.com/mail/?tab=wm\">Gmail</a> <a class=\"gb1\" href=\"https://drive.google.com/?tab=wo\">Drive</a> <a class=\"gb1\" href=\"http://www.google.com/intl/en/options/\" style=\"text-decoration:none\"><u>More</u> \u00bb</a></nobr></div><div id=\"guser\" width=\"100%\"><nobr><span class=\"gbi\" id=\"gbn\"></span><span class=\"gbf\" id=\"gbf\"></span><span id=\"gbe\"></span><a class=\"gb4\" href=\"http://www.google.com/history/optout?hl=en\">Web History</a> | <a class=\"gb4\" href=\"/preferences?hl=en\">Settings</a> | <a class=\"gb4\" href=\"https://accounts.google.com/ServiceLogin?hl=en&amp;continue=https://www.google.com/\" id=\"gb_70\" target=\"_top\">Sign in</a></nobr></div><div class=\"gbh\" style=\"left:0\"></div><div class=\"gbh\" style=\"right:0\"></div> </div><center><span id=\"prt\" style=\"display:block\"> <div><style>.pmoabs{background-color:#fff;border:1px solid #E5E5E5;color:#666;font-size:13px;padding-bottom:20px;position:absolute;right:2px;top:3px;z-index:986}#pmolnk{border-radius:2px;-moz-border-radius:2px;-webkit-border-radius:2px}.kd-button-submit{border:1px solid #3079ed;background-color:#4d90fe;background-image:-webkit-gradient(linear,left top,left bottom,from(#4d90fe),to(#4787ed));background-image:-webkit-linear-gradient(top,#4d90fe,#4787ed);background-image:-moz-linear-gradient(top,#4d90fe,#4787ed);background-image:-ms-linear-gradient(top,#4d90fe,#4787ed);background-image:-o-linear-gradient(top,#4d90fe,#4787ed);background-image:linear-gradient(top,#4d90fe,#4787ed);filter:progid:DXImageTransform.Microsoft.gradient(startColorStr='#4d90fe',EndColorStr='#4787ed')}.kd-button-submit:hover{border:1px solid #2f5bb7;background-color:#357ae8;background-image:-webkit-gradient(linear,left top,left bottom,from(#4d90fe),to(#357ae8));background-image:-webkit-linear-gradient(top,#4d90fe,#357ae8);background-image:-moz-linear-gradient(top,#4d90fe,#357ae8);background-image:-ms-linear-gradient(top,#4d90fe,#357ae8);background-image:-o-linear-gradient(top,#4d90fe,#357ae8);background-image:linear-gradient(top,#4d90fe,#357ae8);filter:progid:DXImageTransform.Microsoft.gradient(startColorStr='#4d90fe',EndColorStr='#357ae8')}.kd-button-submit:active{-webkit-box-shadow:inset 0 1px 2px rgba(0,0,0,0.3);-moz-box-shadow:inset 0 1px 2px rgba(0,0,0,0.3);box-shadow:inset 0 1px 2px rgba(0,0,0,0.3)}#pmolnk a{color:#fff;display:inline-block;font-weight:bold;padding:5px 20px;text-decoration:none;white-space:nowrap}.xbtn{color:#999;cursor:pointer;font-size:23px;line-height:5px;padding-top:5px}.padi{padding:0 8px 0 10px}.padt{padding:5px 20px 0 0;color:#444}.pads{text-align:left;max-width:200px}</style> <div class=\"pmoabs\" id=\"pmocntr2\" style=\"behavior:url(#default#userdata);display:none\"> <table border=\"0\"> <tr> <td colspan=\"2\"> <div class=\"xbtn\" onclick=\"google.promos&amp;&amp;google.promos.toast&amp;&amp; google.promos.toast.cpc()\" style=\"float:right\">\u00d7</div> </td> </tr> <tr> <td class=\"padi\" rowspan=\"2\"> <img src=\"/images/icons/product/chrome-48.png\"/> </td> <td class=\"pads\">A faster way to browse the web</td> </tr> <tr> <td class=\"padt\"> <div class=\"kd-button-submit\" id=\"pmolnk\"> <a href=\"/chrome/index.html?hl=en&amp;brand=CHNG&amp;utm_source=en-hpp&amp;utm_medium=hpp&amp;utm_campaign=en\" onclick=\"google.promos&amp;&amp;google.promos.toast&amp;&amp; google.promos.toast.cl()\">Install Google Chrome</a> </div> </td> </tr> </table> </div> <script type=\"text/javascript\">(function(){var a={s:{}};a.s.va=50;a.s.ra=10;a.s.aa=\"body\";a.s.Ra=!0;a.s.Ua=function(b,c){var d=a.s.Ha();a.s.Ja(d,b,c);a.s.Va(d);a.s.Ra&&a.s.Sa(d)};a.s.Va=function(b){(b=a.s.ca(b))&&0<b.forms.length&&b.forms[0].submit()};a.s.Ha=function(){var b=document.createElement(\"iframe\");b.height=0;b.width=0;b.style.overflow=\"hidden\";b.style.top=b.style.left=\"-100px\";b.style.position=\"absolute\";document.body.appendChild(b);return b};a.s.ca=function(b){return b.contentDocument||b.contentWindow.document};a.s.Ja=function(b,c,d){b=a.s.ca(b);b.open();d=[\"<\",a.s.aa,'><form method=POST action=\"',d,'\">'];for(var e in c)c.hasOwnProperty(e)&&d.push('<textarea name=\"',e,'\">',c[e],\"</textarea>\");d.push(\"</form></\",a.s.aa,\">\");b.write(d.join(\"\"));b.close()};a.s.ea=function(b,c){c>a.s.ra?google&&google.ml&&google.ml(Error(\"ogcdr\"),!1,{cause:\"timeout\"}):b.contentWindow?a.s.Ta(b):window.setTimeout(function(){a.s.ea(b,c+1)},a.s.va)};a.s.Ta=function(b){document.body.removeChild(b)};a.s.Sa=function(b){a.s.Fa(b,\"load\",function(){a.s.ea(b,0)})};a.s.Fa=function(b,c,d){b.addEventListener?b.addEventListener(c,d,!1):b.attachEvent&&b.attachEvent(\"on\"+c,d)};var m={Ya:0,G:1,H:2,M:5};a.o={};a.o.O={na:\"i\",L:\"d\",pa:\"l\"};a.o.C={P:\"0\",I:\"1\"};a.o.R={N:1,L:2,K:3};a.o.B={ha:\"a\",la:\"g\",F:\"c\",Ba:\"u\",Aa:\"t\",P:\"p\",ta:\"pid\",ja:\"eid\",Ca:\"at\"};a.o.oa=window.location.protocol+\"//www.google.com/_/og/promos/\";a.o.ka=\"g\";a.o.Da=\"z\";a.o.V=function(b,c,d,e){var f=null;switch(c){case m.G:f=window.gbar.up.gpd(b,d,!0);break;case m.M:f=window.gbar.up.gcc(e)}return null==f?0:parseInt(f,10)};a.o.Na=function(b,c,d){return c==m.G?null!=window.gbar.up.gpd(b,d,!0):!1};a.o.S=function(b,c,d,e,f,h,k,l){var g={};g[a.o.B.P]=b;g[a.o.B.la]=c;g[a.o.B.ha]=d;g[a.o.B.Ca]=e;g[a.o.B.ja]=f;g[a.o.B.ta]=1;k&&(g[a.o.B.F]=k);l&&(g[a.o.B.Ba]=l);if(h)g[a.o.B.Aa]=h;else return google.ml(Error(\"knu\"),!1,{cause:\"Token is not found\"}),null;return g};a.o.Y=function(b,c,d){if(b){var e=c?a.o.ka:a.o.Da;c&&d&&(e+=\"?authuser=\"+d);a.s.Ua(b,a.o.oa+e)}};a.o.Ia=function(b,c,d,e,f,h,k){b=a.o.S(c,b,a.o.O.L,a.o.R.L,d,f,null,e);a.o.Y(b,h,k)};a.o.La=function(b,c,d,e,f,h,k){b=a.o.S(c,b,a.o.O.na,a.o.R.N,d,f,e,null);a.o.Y(b,h,k)};a.o.Qa=function(b,c,d,e,f,h,k,l,g,n){switch(c){case m.M:window.gbar.up.dpc(e,f);break;case m.G:window.gbar.up.spd(b,d,1,!0);break;case m.H:g=g||!1,l=l||\"\",h=h||0,k=k||a.o.C.I,n=n||0,a.o.Ia(e,h,k,f,l,g,n)}};a.o.Oa=function(b,c,d,e,f){return c==m.G?0<d&&a.o.V(b,c,e,f)>=d:!1};a.o.Ka=function(b,c,d,e,f,h,k,l,g,n){switch(c){case m.M:window.gbar.up.iic(e,f);break;case m.G:c=a.o.V(b,c,d,e)+1;window.gbar.up.spd(b,d,c.toString(),!0);break;case m.H:g=g||!1,l=l||\"\",h=h||0,k=k||a.o.C.P,n=n||0,a.o.La(e,h,k,1,l,g,n)}};a.o.Pa=function(b,c,d,e,f,h){b=a.o.S(c,b,a.o.O.pa,a.o.R.K,d,e,null,null);a.o.Y(b,f,h)};var p={Wa:\"a\",Za:\"l\",Xa:\"c\",ia:\"d\",K:\"h\",N:\"i\",jb:\"n\",I:\"x\",gb:\"ma\",hb:\"mc\",ib:\"mi\",$a:\"pa\",ab:\"pc\",cb:\"pi\",fb:\"pn\",eb:\"px\",bb:\"pd\",kb:\"gpa\",mb:\"gpi\",nb:\"gpn\",ob:\"gpx\",lb:\"gpd\"};a.i={};a.i.A={qa:\"hplogo\",za:\"pmocntr2\"};a.i.C={ya:\"0\",I:\"1\",ga:\"2\"};a.i.v=document.getElementById(a.i.A.za);a.i.ma=16;a.i.wa=2;a.i.xa=20;google.promos=google.promos||{};google.promos.toast=google.promos.toast||{};a.i.J=function(b){a.i.v&&(a.i.v.style.display=b?\"\":\"none\",a.i.v.parentNode&&(a.i.v.parentNode.style.position=b?\"relative\":\"\"))};a.i.fa=function(b){try{if(a.i.v&&b&&b.es&&b.es.m){var c=window.gbar.rtl(document.body)?\"left\":\"right\";a.i.v.style[c]=b.es.m-a.i.ma+a.i.wa+\"px\";a.i.v.style.top=a.i.xa+\"px\"}}catch(d){google.ml(d,!1,{cause:a.i.w+\"_PT\"})}};google.promos.toast.cl=function(){try{a.i.T==m.H&&a.o.Pa(a.i.W,a.i.D,a.i.C.ga,a.i.$,a.i.X,a.i.Z),window.gbar.up.sl(a.i.D,a.i.w,p.K,a.i.U(),1)}catch(b){google.ml(b,!1,{cause:a.i.w+\"_CL\"})}};google.promos.toast.cpc=function(){try{a.i.v&&(a.i.J(!1),a.o.Qa(a.i.v,a.i.T,a.i.A.ba,a.i.W,a.i.Ga,a.i.D,a.i.C.I,a.i.$,a.i.X,a.i.Z),window.gbar.up.sl(a.i.D,a.i.w,p.ia,a.i.U(),1))}catch(b){google.ml(b,!1,{cause:a.i.w+\"_CPC\"})}};a.i.da=function(){try{if(a.i.v){var b=276,c=document.getElementById(a.i.A.qa);c&&(b=Math.max(b,c.offsetWidth));var d=parseInt(a.i.v.style.right,10)||0;a.i.v.style.visibility=2*(a.i.v.offsetWidth+d)+b>document.body.clientWidth?\"hidden\":\"\"}}catch(e){google.ml(e,!1,{cause:a.i.w+\"_HOSW\"})}};a.i.Ea=function(){var b=[\"gpd\",\"spd\",\"aeh\",\"sl\"];if(!window.gbar||!window.gbar.up)return!1;for(var c=0,d;d=b[c];c++)if(!(d in window.gbar.up))return!1;return!0};a.i.Ma=function(){return a.i.v.currentStyle&&\"absolute\"!=a.i.v.currentStyle.position};google.promos.toast.init=function(b,c,d,e,f,h,k,l,g,n,q,r){try{if(!a.i.Ea())google.ml(Error(\"apa\"),!1,{cause:a.i.w+\"_INIT\"});else if(a.i.v)if(e==m.H&&!l==!g)google.ml(Error(\"tku\"),!1,{cause:\"zwieback: \"+g+\", gaia: \"+l}),a.i.J(!1);else if(a.i.A.F=\"toast_count_\"+c+(q?\"_\"+q:\"\"),a.i.A.ba=\"toast_dp_\"+c+(r?\"_\"+r:\"\"),a.i.w=d,a.i.D=b,a.i.T=e,a.i.W=c,a.i.Ga=f,a.i.$=l?l:g,a.i.X=!!l,a.i.Z=k,a.o.Na(a.i.v,e,a.i.A.ba,c)||a.o.Oa(a.i.v,e,h,a.i.A.F,c)||a.i.Ma())a.i.J(!1);else{a.o.Ka(a.i.v,e,a.i.A.F,c,f,a.i.D,a.i.C.ya,a.i.$,a.i.X,a.i.Z);if(!n){try{window.gbar.up.aeh(window,\"resize\",a.i.da)}catch(t){google.ml(t,!1,{cause:a.i.w+\"_INIT_AEH\"})}window.lol=a.i.da;window.gbar.elr&&a.i.fa(window.gbar.elr());window.gbar.elc&&window.gbar.elc(a.i.fa);a.i.J(!0)}window.gbar.up.sl(a.i.D,a.i.w,p.N,a.i.U())}}catch(u){google.ml(u,!1,{cause:a.i.w+\"_INIT\"})}};a.i.U=function(){var b=a.o.V(a.i.v,a.i.T,a.i.A.F,a.i.W);return\"ic=\"+b};})();</script> <script type=\"text/javascript\">(function(){var sourceWebappPromoID=144002;var sourceWebappGroupID=5;var payloadType=5;var cookieMaxAgeSec=2592000;var dismissalType=5;var impressionCap=25;var gaiaXsrfToken='';var zwbkXsrfToken='';var kansasDismissalEnabled=false;var sessionIndex=0;var invisible=false;window.gbar&&gbar.up&&gbar.up.r&&gbar.up.r(payloadType,function(show){if (show){google.promos.toast.init(sourceWebappPromoID,sourceWebappGroupID,payloadType,dismissalType,cookieMaxAgeSec,impressionCap,sessionIndex,gaiaXsrfToken,zwbkXsrfToken,invisible,'0612');}\n",
        "});})();</script> </div> </span><br clear=\"all\" id=\"lgpd\"/><div id=\"lga\"><img alt=\"Google\" height=\"95\" id=\"hplogo\" onload=\"window.lol&amp;&amp;lol()\" src=\"/images/srpr/logo9w.png\" style=\"padding:28px 0 14px\" width=\"269\"/><br/><br/></div><form action=\"/search\" name=\"f\"><table cellpadding=\"0\" cellspacing=\"0\"><tr valign=\"top\"><td width=\"25%\">\u00a0</td><td align=\"center\" nowrap=\"\"><input name=\"ie\" type=\"hidden\" value=\"ISO-8859-1\"/><input name=\"hl\" type=\"hidden\" value=\"en\"/><input name=\"source\" type=\"hidden\" value=\"hp\"/><div class=\"ds\" style=\"height:32px;margin:4px 0\"><input autocomplete=\"off\" class=\"lst\" maxlength=\"2048\" name=\"q\" size=\"57\" style=\"color:#000;margin:0;padding:5px 8px 0 6px;vertical-align:top\" title=\"Google Search\" value=\"\"/></div><br style=\"line-height:0\"/><span class=\"ds\"><span class=\"lsbb\"><input class=\"lsb\" name=\"btnG\" type=\"submit\" value=\"Google Search\"/></span></span><span class=\"ds\"><span class=\"lsbb\"><input class=\"lsb\" name=\"btnI\" onclick=\"if(this.form.q.value)this.checked=1; else top.location='/doodles/'\" type=\"submit\" value=\"I'm Feeling Lucky\"/></span></span></td><td align=\"left\" class=\"fl sblc\" nowrap=\"\" width=\"25%\"><a href=\"/advanced_search?hl=en&amp;authuser=0\">Advanced search</a><a href=\"/language_tools?hl=en&amp;authuser=0\">Language tools</a></td></tr></table><input id=\"gbv\" name=\"gbv\" type=\"hidden\" value=\"1\"/></form><div id=\"gac_scont\"></div><div style=\"font-size:83%;min-height:3.5em\"><br/><div id=\"prm\"><font id=\"hpplink\" size=\"-1\" style=\"behavior:url(#default#userdata);display:none\"><span style=\"color:red\"></span>On World Oceans Day, <a href=\"https://www.google.com/maps/@-21.203983,-159.837009,3a,75y,353.06h,70.91t/data=!3m5!1e1!3m3!1sKLOTMHWet2IAAAQo8BVSeg!2e0!3e2\" onclick=\"google.promos&amp;&amp;google.promos.link&amp;&amp; google.promos.link.cl()\">explore their beauty with Google Maps</a></font><br/><br/><br/><script type=\"text/javascript\">(function(){var e={ACCEPT:\"a\",LIMITED_ACCEPT:\"l\",CANCEL:\"c\",DISMISS:\"d\",CLICK:\"h\",IMPRESSION:\"i\",NO_THANKS:\"n\",X_BUTTON:\"x\",MGMHP_ACCEPT:\"ma\",MGMHP_CANCEL:\"mc\",MGMHP_IMPRESSION:\"mi\",MGMHPPD_ACCEPT:\"pa\",MGMHPPD_CANCEL:\"pc\",MGMHPPD_IMPRESSION:\"pi\",MGMHPPD_NO_THANKS:\"pn\",MGMHPPD_NO_BUTTON:\"px\",MGMHPPD_DISMISS:\"pd\",PUSHDOWN_ACCEPT:\"gpa\",PUSHDOWN_IMPRESSION:\"gpi\",PUSHDOWN_NO_THANKS:\"gpn\",PUSHDOWN_X_BUTTON:\"gpx\",PUSHDOWN_DISMISS:\"gpd\"};var f,g,h=0,k;google.promos=google.promos||{};google.promos.link=google.promos.link||{};google.promos.link.getExtraLogData_=function(b){var a=document.getElementById(k);if(a){var c=g+\"_upccb\",d=parseInt(window.gbar.up.gpd(a,c)||0,10);d++;h++;window.gbar.up.spd(a,c,d);a=[[\"upcc\",h].join(\"=\"),[\"upccb\",d].join(\"=\")];b&&a.push(b);return a.join(\"&\")}return\"\"};google.promos.link.cl=function(b){try{window.gbar.up.sl(g,f,e.CLICK,google.promos.link.getExtraLogData_(b),1)}catch(a){google.ml(a,!1,{cause:f+\"_CL\"})}};function l(){var b=[\"gpd\",\"spd\",\"sl\"];if(!window.gbar||!window.gbar.up)return!1;for(var a=0,c;c=b[a];a++)if(!(c in window.gbar.up))return!1;return!0}google.promos.link.init=function(b,a,c){try{if(l()){g=b;f=a;k=c;var d=document.getElementById(k);d&&(d.style.display=\"\",window.gbar.up.sl(g,f,e.IMPRESSION))}else google.ml(Error(\"apa\"),!1,{cause:a+\"_INIT\"})}catch(m){google.ml(m,!1,{cause:f+\"_INIT\"})}};})();</script><script>(function(){var sourceWebappPromoID=5080067;var payloadType=3;window.gbar&&gbar.up&&gbar.up.r&&gbar.up.r(payloadType,function(show){if (show){google.promos.link.init(sourceWebappPromoID,payloadType,'hpplink');}\n",
        "});})();</script></div></div><span id=\"footer\"><div style=\"font-size:10pt\"><div id=\"fll\" style=\"margin:19px auto;text-align:center\"><a href=\"/intl/en/ads/\">Advertising\u00a0Programs</a><a href=\"/services/\">Business Solutions</a><a href=\"https://plus.google.com/116899029375914044550\" rel=\"publisher\">+Google</a><a href=\"/intl/en/about.html\">About Google</a></div></div><p style=\"color:#767676;font-size:8pt\">\u00a9 2015 - <a href=\"/intl/en/policies/privacy/\">Privacy</a> - <a href=\"/intl/en/policies/terms/\">Terms</a></p></span></center><div id=\"xjsd\"></div><div data-jiis=\"bp\" id=\"xjsi\"><script>(function(){function c(b){window.setTimeout(function(){var a=document.createElement(\"script\");a.src=b;document.getElementById(\"xjsd\").appendChild(a)},0)}google.dljp=function(b,a){google.xjsu=b;c(a)};google.dlj=c;})();(function(){window.google.xjsrm=[];})();if(google.y)google.y.first=[];if(!google.xjs){window._=window._||{};window._._DumpException=function(e){throw e};if(google.timers&&google.timers.load.t){google.timers.load.t.xjsls=new Date().getTime();}google.dljp('/xjs/_/js/k\\x3dxjs.hp.en_US.jQd6Yo2k1XA.O/m\\x3dsb_he,d/rt\\x3dj/d\\x3d1/t\\x3dzcms/rs\\x3dACT90oGMUaGZkpSZdhn1hz40t6LgZK9oPg','/xjs/_/js/k\\x3dxjs.hp.en_US.jQd6Yo2k1XA.O/m\\x3dsb_he,d/rt\\x3dj/d\\x3d1/t\\x3dzcms/rs\\x3dACT90oGMUaGZkpSZdhn1hz40t6LgZK9oPg');google.xjs=1;}google.pmc={\"sb_he\":{\"agen\":true,\"cgen\":true,\"client\":\"heirloom-hp\",\"dh\":true,\"ds\":\"\",\"fl\":true,\"host\":\"google.com\",\"jam\":0,\"jsonp\":true,\"msgs\":{\"cibl\":\"Clear Search\",\"dym\":\"Did you mean:\",\"lcky\":\"I\\u0026#39;m Feeling Lucky\",\"lml\":\"Learn more\",\"oskt\":\"Input tools\",\"psrc\":\"This search was removed from your \\u003Ca href=\\\"/history\\\"\\u003EWeb History\\u003C/a\\u003E\",\"psrl\":\"Remove\",\"sbit\":\"Search by image\",\"srch\":\"Google Search\"},\"ovr\":{},\"pq\":\"\",\"refoq\":true,\"refpd\":true,\"rfs\":[],\"scd\":10,\"sce\":5,\"stok\":\"98gAuhw4mlOEhhlvP7O57WTOaF0\"},\"d\":{}};google.y.first.push(function(){if(google.med){google.med('init');google.initHistory();google.med('history');}});if(google.j&&google.j.en&&google.j.xi){window.setTimeout(google.j.xi,0);}\n",
        "</script></div></body></html>\n"
       ]
      }
     ],
     "prompt_number": 65
    },
    {
     "cell_type": "code",
     "collapsed": false,
     "input": [
      "from selenium import webdriver\n",
      "from bs4 import BeautifulSoup\n",
      "import time\n",
      "\n",
      "url =  \"http://www.manta.com/mb_35_B121A000_000/general_automotive_repair_shops\" \n",
      "driver = webdriver.Chrome()\n",
      "driver.get(url)\n",
      "driver.set_window_position(0, 0)\n",
      "driver.set_window_size(100000, 200000)\n",
      "driver.execute_script(\"window.scrollTo(0, document.body.scrollHeight);\")\n",
      "time.sleep(2) # wait to load\n",
      "\n",
      "# at this point, if you see the Firefox window that opened you will see the message\n",
      "\n",
      "# Anyway, if you manage to get pass trough that blocking, you could load BeautifulSoup this way: \n",
      "soup = BeautifulSoup(driver.page_source, \"lxml\")\n",
      "for link in soup.find_all('a'):\n",
      "    print(link.get('href'))"
     ],
     "language": "python",
     "metadata": {},
     "outputs": [
      {
       "output_type": "stream",
       "stream": "stdout",
       "text": [
        "#content\n",
        "yeabdeucczswaaz.html\n"
       ]
      }
     ],
     "prompt_number": 1
    },
    {
     "cell_type": "code",
     "collapsed": false,
     "input": [
      "import os\n",
      "from selenium import webdriver\n",
      "\n",
      "chromedriver = \"/Users/mudy/Downloads/chromedriver\"\n",
      "os.environ[\"webdriver.chrome.driver\"] = chromedriver\n",
      "driver = webdriver.Chrome(chromedriver)\n",
      "driver.get(\"http://stackoverflow.com\")\n",
      "driver.quit()"
     ],
     "language": "python",
     "metadata": {},
     "outputs": [],
     "prompt_number": 57
    },
    {
     "cell_type": "code",
     "collapsed": false,
     "input": [],
     "language": "python",
     "metadata": {},
     "outputs": []
    }
   ],
   "metadata": {}
  }
 ]
}